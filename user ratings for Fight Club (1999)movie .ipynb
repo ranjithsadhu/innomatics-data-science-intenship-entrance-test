{
 "cells": [
  {
   "cell_type": "code",
   "execution_count": 1,
   "id": "d4b698b4",
   "metadata": {},
   "outputs": [],
   "source": [
    "import pandas as pd\n",
    "import matplotlib.pyplot as plt"
   ]
  },
  {
   "cell_type": "code",
   "execution_count": 2,
   "id": "da49dca8",
   "metadata": {},
   "outputs": [],
   "source": [
    "movies_df = pd.read_csv(r'C:\\movie_data\\movies\\movies.csv')\n",
    "ratings_df = pd.read_csv(r'C:\\movie_data\\ratings\\ratings.csv')\n"
   ]
  },
  {
   "cell_type": "code",
   "execution_count": 3,
   "id": "20d15f95",
   "metadata": {},
   "outputs": [],
   "source": [
    "merged_df = pd.merge(ratings_df, movies_df, on='movieId', how='inner')\n"
   ]
  },
  {
   "cell_type": "code",
   "execution_count": 4,
   "id": "c518defb",
   "metadata": {},
   "outputs": [],
   "source": [
    "fight_club_ratings = merged_df[merged_df['title'] == 'Fight Club (1999)']\n"
   ]
  },
  {
   "cell_type": "code",
   "execution_count": 5,
   "id": "8b38f128",
   "metadata": {},
   "outputs": [
    {
     "data": {
      "image/png": "[encoded data removed]",
      "text/plain": [
       "<Figure size 432x288 with 1 Axes>"
      ]
     },
     "metadata": {
      "needs_background": "light"
     },
     "output_type": "display_data"
    }
   ],
   "source": [
    "plt.hist(fight_club_ratings['rating'], bins=5, edgecolor='black')\n",
    "plt.title('Distribution of User Ratings for Fight Club (1999)')\n",
    "plt.xlabel('Rating')\n",
    "plt.ylabel('Number of Ratings')\n",
    "plt.show()"
   ]
  },
  {
   "cell_type": "code",
   "execution_count": null,
   "id": "e7990f86",
   "metadata": {},
   "outputs": [],
   "source": []
  }
 ],
 "metadata": {
  "kernelspec": {
   "display_name": "Python 3",
   "language": "python",
   "name": "python3"
  },
  "language_info": {
   "codemirror_mode": {
    "name": "ipython",
    "version": 3
   },
   "file_extension": ".py",
   "mimetype": "text/x-python",
   "name": "python",
   "nbconvert_exporter": "python",
   "pygments_lexer": "ipython3",
   "version": "3.8.8"
  }
 },
 "nbformat": 4,
 "nbformat_minor": 5
}
