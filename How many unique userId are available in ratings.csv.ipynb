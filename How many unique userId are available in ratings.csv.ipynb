{
 "cells": [
  {
   "cell_type": "code",
   "execution_count": 1,
   "id": "6c047edf",
   "metadata": {},
   "outputs": [],
   "source": [
    "import pandas as pd"
   ]
  },
  {
   "cell_type": "code",
   "execution_count": 2,
   "id": "1f0505cd",
   "metadata": {},
   "outputs": [],
   "source": [
    "ratings_df = pd.read_csv(r'C:\\movie_data\\ratings/ratings.csv')"
   ]
  },
  {
   "cell_type": "code",
   "execution_count": 3,
   "id": "d3f8cc6d",
   "metadata": {},
   "outputs": [],
   "source": [
    "unique_user_count = ratings_df['userId'].nunique()"
   ]
  },
  {
   "cell_type": "code",
   "execution_count": 4,
   "id": "dd083091",
   "metadata": {},
   "outputs": [
    {
     "name": "stdout",
     "output_type": "stream",
     "text": [
      "The number of unique userId values in ratings.csv is: 610\n"
     ]
    }
   ],
   "source": [
    "print(f\"The number of unique userId values in ratings.csv is: {unique_user_count}\")"
   ]
  },
  {
   "cell_type": "code",
   "execution_count": null,
   "id": "bc027569",
   "metadata": {},
   "outputs": [],
   "source": []
  }
 ],
 "metadata": {
  "kernelspec": {
   "display_name": "Python 3",
   "language": "python",
   "name": "python3"
  },
  "language_info": {
   "codemirror_mode": {
    "name": "ipython",
    "version": 3
   },
   "file_extension": ".py",
   "mimetype": "text/x-python",
   "name": "python",
   "nbconvert_exporter": "python",
   "pygments_lexer": "ipython3",
   "version": "3.8.8"
  }
 },
 "nbformat": 4,
 "nbformat_minor": 5
}
